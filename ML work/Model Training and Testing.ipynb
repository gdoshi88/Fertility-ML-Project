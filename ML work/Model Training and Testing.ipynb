{
 "cells": [
  {
   "cell_type": "code",
   "execution_count": 1,
   "metadata": {},
   "outputs": [
    {
     "name": "stderr",
     "output_type": "stream",
     "text": [
      "Using TensorFlow backend.\n"
     ]
    }
   ],
   "source": [
    "%matplotlib inline\n",
    "import matplotlib.pyplot as plt\n",
    "import numpy as np\n",
    "import pandas as pd\n",
    "import keras\n",
    "import tensorflow as tf"
   ]
  },
  {
   "cell_type": "code",
   "execution_count": 2,
   "metadata": {},
   "outputs": [],
   "source": [
    "csv_path = \"data/Data.csv\"\n",
    "csv = pd.read_csv(csv_path)"
   ]
  },
  {
   "cell_type": "code",
   "execution_count": 7,
   "metadata": {},
   "outputs": [
    {
     "data": {
      "text/html": [
       "<div>\n",
       "<style scoped>\n",
       "    .dataframe tbody tr th:only-of-type {\n",
       "        vertical-align: middle;\n",
       "    }\n",
       "\n",
       "    .dataframe tbody tr th {\n",
       "        vertical-align: top;\n",
       "    }\n",
       "\n",
       "    .dataframe thead th {\n",
       "        text-align: right;\n",
       "    }\n",
       "</style>\n",
       "<table border=\"1\" class=\"dataframe\">\n",
       "  <thead>\n",
       "    <tr style=\"text-align: right;\">\n",
       "      <th></th>\n",
       "      <th>Season(1-Winter, 2-Spring, 3-Summer, 4-Fall)</th>\n",
       "      <th>Age at the time of analysis. 18-36 (0, 1)</th>\n",
       "      <th>Childish diseases (ie , chicken pox, measles, mumps, polio) 1) yes, 2) no.</th>\n",
       "      <th>Accident or serious trauma 1) yes, 2) no.</th>\n",
       "      <th>Surgical intervention 1) yes, 2) no.</th>\n",
       "      <th>High fevers in the last year 1) less than three months ago, 2) more than three months ago, 3) no</th>\n",
       "      <th>Frequency of alcohol consumption 1) several times a day, 2) every day, 3) several times a week, 4) once a week, 5) hardly ever or never</th>\n",
       "      <th>Smoking habit 1) never, 2) occasional 3) daily.</th>\n",
       "      <th>Number of hours spent sitting per day ene-16</th>\n",
       "      <th>Output Diagnosis(0-Normal, 1-Altered)</th>\n",
       "    </tr>\n",
       "  </thead>\n",
       "  <tbody>\n",
       "    <tr>\n",
       "      <th>0</th>\n",
       "      <td>-0.33</td>\n",
       "      <td>0.69</td>\n",
       "      <td>0</td>\n",
       "      <td>1</td>\n",
       "      <td>1</td>\n",
       "      <td>0</td>\n",
       "      <td>0.8</td>\n",
       "      <td>0</td>\n",
       "      <td>0.88</td>\n",
       "      <td>0</td>\n",
       "    </tr>\n",
       "    <tr>\n",
       "      <th>1</th>\n",
       "      <td>-0.33</td>\n",
       "      <td>0.94</td>\n",
       "      <td>1</td>\n",
       "      <td>0</td>\n",
       "      <td>1</td>\n",
       "      <td>0</td>\n",
       "      <td>0.8</td>\n",
       "      <td>1</td>\n",
       "      <td>0.31</td>\n",
       "      <td>1</td>\n",
       "    </tr>\n",
       "    <tr>\n",
       "      <th>2</th>\n",
       "      <td>-0.33</td>\n",
       "      <td>0.50</td>\n",
       "      <td>1</td>\n",
       "      <td>0</td>\n",
       "      <td>0</td>\n",
       "      <td>0</td>\n",
       "      <td>1.0</td>\n",
       "      <td>-1</td>\n",
       "      <td>0.50</td>\n",
       "      <td>0</td>\n",
       "    </tr>\n",
       "    <tr>\n",
       "      <th>3</th>\n",
       "      <td>-0.33</td>\n",
       "      <td>0.75</td>\n",
       "      <td>0</td>\n",
       "      <td>1</td>\n",
       "      <td>1</td>\n",
       "      <td>0</td>\n",
       "      <td>1.0</td>\n",
       "      <td>-1</td>\n",
       "      <td>0.38</td>\n",
       "      <td>0</td>\n",
       "    </tr>\n",
       "    <tr>\n",
       "      <th>4</th>\n",
       "      <td>-0.33</td>\n",
       "      <td>0.67</td>\n",
       "      <td>1</td>\n",
       "      <td>1</td>\n",
       "      <td>0</td>\n",
       "      <td>0</td>\n",
       "      <td>0.8</td>\n",
       "      <td>-1</td>\n",
       "      <td>0.50</td>\n",
       "      <td>1</td>\n",
       "    </tr>\n",
       "  </tbody>\n",
       "</table>\n",
       "</div>"
      ],
      "text/plain": [
       "   Season(1-Winter, 2-Spring, 3-Summer, 4-Fall)  \\\n",
       "0                                         -0.33   \n",
       "1                                         -0.33   \n",
       "2                                         -0.33   \n",
       "3                                         -0.33   \n",
       "4                                         -0.33   \n",
       "\n",
       "   Age at the time of analysis. 18-36 (0, 1)  \\\n",
       "0                                       0.69   \n",
       "1                                       0.94   \n",
       "2                                       0.50   \n",
       "3                                       0.75   \n",
       "4                                       0.67   \n",
       "\n",
       "   Childish diseases (ie , chicken pox, measles, mumps, polio) 1) yes, 2) no.  \\\n",
       "0                                                  0                            \n",
       "1                                                  1                            \n",
       "2                                                  1                            \n",
       "3                                                  0                            \n",
       "4                                                  1                            \n",
       "\n",
       "   Accident or serious trauma 1) yes, 2) no.  \\\n",
       "0                                          1   \n",
       "1                                          0   \n",
       "2                                          0   \n",
       "3                                          1   \n",
       "4                                          1   \n",
       "\n",
       "   Surgical intervention 1) yes, 2) no.  \\\n",
       "0                                     1   \n",
       "1                                     1   \n",
       "2                                     0   \n",
       "3                                     1   \n",
       "4                                     0   \n",
       "\n",
       "   High fevers in the last year 1) less than three months ago, 2) more than three months ago, 3) no  \\\n",
       "0                                                  0                                                  \n",
       "1                                                  0                                                  \n",
       "2                                                  0                                                  \n",
       "3                                                  0                                                  \n",
       "4                                                  0                                                  \n",
       "\n",
       "   Frequency of alcohol consumption 1) several times a day, 2) every day, 3) several times a week, 4) once a week, 5) hardly ever or never  \\\n",
       "0                                                0.8                                                                                         \n",
       "1                                                0.8                                                                                         \n",
       "2                                                1.0                                                                                         \n",
       "3                                                1.0                                                                                         \n",
       "4                                                0.8                                                                                         \n",
       "\n",
       "   Smoking habit 1) never, 2) occasional 3) daily.  \\\n",
       "0                                                0   \n",
       "1                                                1   \n",
       "2                                               -1   \n",
       "3                                               -1   \n",
       "4                                               -1   \n",
       "\n",
       "   Number of hours spent sitting per day ene-16  \\\n",
       "0                                          0.88   \n",
       "1                                          0.31   \n",
       "2                                          0.50   \n",
       "3                                          0.38   \n",
       "4                                          0.50   \n",
       "\n",
       "   Output Diagnosis(0-Normal, 1-Altered)  \n",
       "0                                      0  \n",
       "1                                      1  \n",
       "2                                      0  \n",
       "3                                      0  \n",
       "4                                      1  "
      ]
     },
     "execution_count": 7,
     "metadata": {},
     "output_type": "execute_result"
    }
   ],
   "source": [
    "df = pd.DataFrame(csv)\n",
    "df.dropna().head()"
   ]
  },
  {
   "cell_type": "code",
   "execution_count": 8,
   "metadata": {
    "scrolled": true
   },
   "outputs": [
    {
     "data": {
      "text/plain": [
       "Index(['Season(1-Winter, 2-Spring, 3-Summer, 4-Fall)',\n",
       "       'Age at the time of analysis. 18-36 (0, 1)',\n",
       "       'Childish diseases (ie , chicken pox, measles, mumps, polio) 1) yes, 2) no.',\n",
       "       'Accident or serious trauma 1) yes, 2) no.',\n",
       "       'Surgical intervention 1) yes, 2) no.',\n",
       "       'High fevers in the last year 1) less than three months ago, 2) more than three months ago, 3) no',\n",
       "       'Frequency of alcohol consumption 1) several times a day, 2) every day, 3) several times a week, 4) once a week, 5) hardly ever or never',\n",
       "       'Smoking habit 1) never, 2) occasional 3) daily.',\n",
       "       'Number of hours spent sitting per day ene-16',\n",
       "       'Output Diagnosis(0-Normal, 1-Altered)'],\n",
       "      dtype='object')"
      ]
     },
     "execution_count": 8,
     "metadata": {},
     "output_type": "execute_result"
    }
   ],
   "source": [
    "df.columns"
   ]
  },
  {
   "cell_type": "code",
   "execution_count": null,
   "metadata": {},
   "outputs": [],
   "source": []
  }
 ],
 "metadata": {
  "kernelspec": {
   "display_name": "Python [conda env:pythondata3]",
   "language": "python",
   "name": "conda-env-pythondata3-py"
  },
  "language_info": {
   "codemirror_mode": {
    "name": "ipython",
    "version": 3
   },
   "file_extension": ".py",
   "mimetype": "text/x-python",
   "name": "python",
   "nbconvert_exporter": "python",
   "pygments_lexer": "ipython3",
   "version": "3.7.3"
  }
 },
 "nbformat": 4,
 "nbformat_minor": 2
}
